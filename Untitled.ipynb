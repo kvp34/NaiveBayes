{
 "cells": [
  {
   "cell_type": "code",
   "execution_count": 1,
   "metadata": {},
   "outputs": [],
   "source": [
    "import sys"
   ]
  },
  {
   "cell_type": "code",
   "execution_count": 2,
   "metadata": {},
   "outputs": [],
   "source": [
    "datafile = 'D:\\\\Github\\\\NaiveBayes\\\\breast_cancer.data'"
   ]
  },
  {
   "cell_type": "code",
   "execution_count": 3,
   "metadata": {},
   "outputs": [],
   "source": [
    "with open(datafile) as f:\n",
    "    data=[]\n",
    "    i=0\n",
    "    l=f.readline()\n",
    "    while (l!=''):\n",
    "        a=l.split()\n",
    "        l2=[]\n",
    "        for j in range(0,len(a),1):\n",
    "            l2.append(float(a[j]))\n",
    "        data.append(l2)\n",
    "        l=f.readline()\n",
    "rows=len(data)\n",
    "cols=len(data[0])"
   ]
  },
  {
   "cell_type": "code",
   "execution_count": 4,
   "metadata": {},
   "outputs": [
    {
     "data": {
      "text/plain": [
       "(9, 30)"
      ]
     },
     "execution_count": 4,
     "metadata": {},
     "output_type": "execute_result"
    }
   ],
   "source": [
    "rows,cols"
   ]
  },
  {
   "cell_type": "code",
   "execution_count": 5,
   "metadata": {},
   "outputs": [
    {
     "data": {
      "text/plain": [
       "[17.99,\n",
       " 10.38,\n",
       " 122.8,\n",
       " 1001.0,\n",
       " 0.1184,\n",
       " 0.2776,\n",
       " 0.3001,\n",
       " 0.1471,\n",
       " 0.2419,\n",
       " 0.07871,\n",
       " 1.095,\n",
       " 0.9053,\n",
       " 8.589,\n",
       " 153.4,\n",
       " 0.0064,\n",
       " 0.04904,\n",
       " 0.05373,\n",
       " 0.01587,\n",
       " 0.03003,\n",
       " 0.00619,\n",
       " 25.38,\n",
       " 17.33,\n",
       " 184.6,\n",
       " 2019.0,\n",
       " 0.1622,\n",
       " 0.6656,\n",
       " 0.7119,\n",
       " 0.2654,\n",
       " 0.4601,\n",
       " 0.1189]"
      ]
     },
     "execution_count": 5,
     "metadata": {},
     "output_type": "execute_result"
    }
   ],
   "source": [
    "data[0]"
   ]
  },
  {
   "cell_type": "code",
   "execution_count": 6,
   "metadata": {},
   "outputs": [],
   "source": [
    "labelfile='D:\\\\Github\\\\NaiveBayes\\\\breast_cancer.trainlabels.0'"
   ]
  },
  {
   "cell_type": "code",
   "execution_count": 7,
   "metadata": {},
   "outputs": [],
   "source": [
    "with open(labelfile) as f:\n",
    "    trainlabels={}\n",
    "    n=[]\n",
    "    n.append(0)\n",
    "    n.append(0)\n",
    "    l=f.readline()\n",
    "    while(l!=''):\n",
    "        a=l.split()\n",
    "        trainlabels[int(a[1])]=int(a[0])\n",
    "        l=f.readline()\n",
    "        n[int(a[0])]+=1 "
   ]
  },
  {
   "cell_type": "code",
   "execution_count": 8,
   "metadata": {},
   "outputs": [
    {
     "data": {
      "text/plain": [
       "({0: 0, 1: 0, 2: 0, 3: 0, 4: 1, 5: 0, 6: 1, 7: 1}, [5, 3])"
      ]
     },
     "execution_count": 8,
     "metadata": {},
     "output_type": "execute_result"
    }
   ],
   "source": [
    "trainlabels,n"
   ]
  },
  {
   "cell_type": "code",
   "execution_count": 9,
   "metadata": {},
   "outputs": [
    {
     "name": "stdout",
     "output_type": "stream",
     "text": [
      "[16.624000000000002, 17.296, 109.36999999999998, 878.8399999999999, 0.316608, 0.394008, 0.39672, 0.30625199999999997, 0.41968000000000005, 0.27378800000000003, 0.84284, 1.09446, 4.6468, 75.386, 0.20687799999999998, 0.242042, 0.240796, 0.21597800000000006, 0.22954, 0.20571599999999995, 21.064, 23.503999999999998, 139.834, 1398.8600000000001, 0.36385999999999996, 0.73358, 0.72526, 0.42519999999999997, 0.63174, 0.31858000000000003]\n",
      "[17.75, 18.716666666666665, 115.3, 971.9666666666667, 0.43794333333333335, 0.4687666666666667, 0.46812000000000004, 0.4127166666666667, 0.5266333333333334, 0.39692, 0.9291333333333333, 1.3105, 4.491333333333333, 66.77, 0.34153666666666666, 0.35623999999999995, 0.36810000000000004, 0.34790666666666664, 0.34870333333333337, 0.3375666666666666, 21.16, 24.49, 139.0, 1359.6666666666667, 0.48233333333333334, 0.6102666666666667, 0.6820666666666666, 0.5037666666666667, 0.6207666666666666, 0.42518666666666666]\n"
     ]
    }
   ],
   "source": [
    "m0=[]\n",
    "for j in range(0,cols,1):\n",
    "    m0.append(1)\n",
    "m1=[]\n",
    "for j in range(0,cols,1):\n",
    "    m1.append(1)\n",
    "\n",
    "for i in range(0,rows,1):\n",
    "    if(trainlabels.get(i)!=None and trainlabels[i]==0):\n",
    "        for j in range(0,cols,1):\n",
    "            m0[j]=m0[j]+data[i][j]\n",
    "    if(trainlabels.get(i)!=None and trainlabels[i]==1):\n",
    "        for j in range(0,cols,1):\n",
    "            m1[j]=m1[j]+data[i][j]\n",
    "\n",
    "for j in range(0,cols,1):\n",
    "    m0[j]=m0[j]/n[0]\n",
    "    m1[j]=m1[j]/n[1]\n",
    "print(m0)\n",
    "print(m1)"
   ]
  },
  {
   "cell_type": "code",
   "execution_count": 10,
   "metadata": {},
   "outputs": [
    {
     "name": "stdout",
     "output_type": "stream",
     "text": [
      "[3.7773302741486616, 3.892251790416442, 24.03525244302627, 380.56341705424074, 0.20092961418367378, 0.21453098110995533, 0.21272488711949056, 0.20203140522205942, 0.20192074088612103, 0.20053555239906967, 0.32912912116675425, 0.24734085469246683, 2.2114480685740734, 47.06876526955004, 0.20000444429062067, 0.20100957274717043, 0.20046584632799674, 0.20002815635804883, 0.20063019932203627, 0.2000094643360658, 4.679442701860981, 3.2021342882521346, 33.255426985681595, 618.7055959016371, 0.20215290846287615, 0.30348007776458735, 0.2634896020718844, 0.2035308428715412, 0.23886826997322183, 0.2024007434768954]\n",
      "[2.7702707448911914, 2.8992757716367716, 18.62381987312663, 297.5252034142094, 0.3334944846786992, 0.3341076972075522, 0.3364067391318631, 0.3338486208847757, 0.3338522594069286, 0.33342330762360733, 0.35672837160942367, 0.43709883703040586, 1.0032316670529184, 19.840737553494996, 0.3333464972067353, 0.33340331722005, 0.33370124882395436, 0.3333512322861079, 0.3333372726100565, 0.3333365179514539, 2.6877995957040155, 5.307975131818158, 19.853127377485556, 327.16407708263654, 0.3335465451444187, 0.3402014697205173, 0.33832524785084145, 0.33373373618300367, 0.33532490711746016, 0.33375028069900803]\n"
     ]
    }
   ],
   "source": [
    "sd0=[]\n",
    "for j in range(0,cols,1):\n",
    "    sd0.append(0)\n",
    "sd1=[]\n",
    "for j in range(0,cols,1):\n",
    "    sd1.append(0)\n",
    "    \n",
    "for i in range(0,rows,1):\n",
    "    if(trainlabels.get(i)!=None and trainlabels[i]==0):\n",
    "        for j in range(0,cols,1):\n",
    "            sd0[j]=sd0[j]+((data[i][j]-m0[j])**2)\n",
    "    if(trainlabels.get(i)!=None and trainlabels[i]==1):\n",
    "        for j in range(0,cols,1):\n",
    "            sd1[j]=sd1[j]+((data[i][j]-m1[j])**2)\n",
    "for j in range(0,cols,1):\n",
    "    sd0[j]=(sd0[j]/n[0])**(1/2)\n",
    "    sd1[j]=(sd1[j]/n[1])**(1/2)  \n",
    "    \n",
    "print(sd0)\n",
    "print(sd1)"
   ]
  },
  {
   "cell_type": "code",
   "execution_count": 15,
   "metadata": {},
   "outputs": [
    {
     "name": "stdout",
     "output_type": "stream",
     "text": [
      "0 8\n"
     ]
    }
   ],
   "source": [
    "for i in range(0,rows,1):\n",
    "    if(trainlabels.get(i)==None):\n",
    "        d0=0\n",
    "        d1=0\n",
    "        for j in range(0,cols,1):\n",
    "            d0=d0+(((m0[j]-data[i][j])/sd0[j])**2)\n",
    "            d1=d1+(((m1[j]-data[i][j])/sd1[j])**2)\n",
    "        if(d0<d1):\n",
    "            print(\"0\",i)\n",
    "        else:\n",
    "            print(\"1\",i)"
   ]
  },
  {
   "cell_type": "code",
   "execution_count": 13,
   "metadata": {},
   "outputs": [
    {
     "data": {
      "text/plain": [
       "2.0"
      ]
     },
     "execution_count": 13,
     "metadata": {},
     "output_type": "execute_result"
    }
   ],
   "source": [
    "4/2"
   ]
  },
  {
   "cell_type": "code",
   "execution_count": null,
   "metadata": {},
   "outputs": [],
   "source": []
  }
 ],
 "metadata": {
  "kernelspec": {
   "display_name": "Python 3",
   "language": "python",
   "name": "python3"
  },
  "language_info": {
   "codemirror_mode": {
    "name": "ipython",
    "version": 3
   },
   "file_extension": ".py",
   "mimetype": "text/x-python",
   "name": "python",
   "nbconvert_exporter": "python",
   "pygments_lexer": "ipython3",
   "version": "3.6.5"
  }
 },
 "nbformat": 4,
 "nbformat_minor": 2
}
