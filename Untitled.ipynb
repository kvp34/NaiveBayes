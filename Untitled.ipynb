{
 "cells": [
  {
   "cell_type": "code",
   "execution_count": 1,
   "metadata": {},
   "outputs": [],
   "source": [
    "import sys"
   ]
  },
  {
   "cell_type": "code",
   "execution_count": 2,
   "metadata": {},
   "outputs": [],
   "source": [
    "datafile = 'D:\\\\Github\\\\NaiveBayes\\\\breast_cancer.data'"
   ]
  },
  {
   "cell_type": "code",
   "execution_count": 3,
   "metadata": {},
   "outputs": [],
   "source": [
    "with open(datafile) as f:\n",
    "    data=[]\n",
    "    i=0\n",
    "    l=f.readline()\n",
    "    while (l!=''):\n",
    "        a=l.split()\n",
    "        l2=[]\n",
    "        for j in range(0,len(a),1):\n",
    "            l2.append(float(a[j]))\n",
    "        data.append(l2)\n",
    "        l=f.readline()\n",
    "rows=len(data)\n",
    "cols=len(data[0])"
   ]
  },
  {
   "cell_type": "code",
   "execution_count": 4,
   "metadata": {},
   "outputs": [
    {
     "data": {
      "text/plain": [
       "(9, 30)"
      ]
     },
     "execution_count": 4,
     "metadata": {},
     "output_type": "execute_result"
    }
   ],
   "source": [
    "rows,cols"
   ]
  },
  {
   "cell_type": "code",
   "execution_count": 5,
   "metadata": {},
   "outputs": [
    {
     "data": {
      "text/plain": [
       "[17.99,\n",
       " 10.38,\n",
       " 122.8,\n",
       " 1001.0,\n",
       " 0.1184,\n",
       " 0.2776,\n",
       " 0.3001,\n",
       " 0.1471,\n",
       " 0.2419,\n",
       " 0.07871,\n",
       " 1.095,\n",
       " 0.9053,\n",
       " 8.589,\n",
       " 153.4,\n",
       " 0.0064,\n",
       " 0.04904,\n",
       " 0.05373,\n",
       " 0.01587,\n",
       " 0.03003,\n",
       " 0.00619,\n",
       " 25.38,\n",
       " 17.33,\n",
       " 184.6,\n",
       " 2019.0,\n",
       " 0.1622,\n",
       " 0.6656,\n",
       " 0.7119,\n",
       " 0.2654,\n",
       " 0.4601,\n",
       " 0.1189]"
      ]
     },
     "execution_count": 5,
     "metadata": {},
     "output_type": "execute_result"
    }
   ],
   "source": [
    "data[0]"
   ]
  },
  {
   "cell_type": "code",
   "execution_count": 6,
   "metadata": {},
   "outputs": [],
   "source": [
    "labelfile='D:\\\\Github\\\\NaiveBayes\\\\breast_cancer.trainlabels.0'"
   ]
  },
  {
   "cell_type": "code",
   "execution_count": 7,
   "metadata": {},
   "outputs": [],
   "source": [
    "with open(labelfile) as f:\n",
    "    trainlabels={}\n",
    "    n=[]\n",
    "    n.append(0)\n",
    "    n.append(0)\n",
    "    l=f.readline()\n",
    "    while(l!=''):\n",
    "        a=l.split()\n",
    "        trainlabels[int(a[1])]=int(a[0])\n",
    "        l=f.readline()\n",
    "        n[int(a[0])]+=1 "
   ]
  },
  {
   "cell_type": "code",
   "execution_count": 8,
   "metadata": {},
   "outputs": [
    {
     "data": {
      "text/plain": [
       "({0: 0, 1: 0, 2: 0, 3: 0, 4: 1, 5: 0, 6: 1, 7: 1}, [5, 3])"
      ]
     },
     "execution_count": 8,
     "metadata": {},
     "output_type": "execute_result"
    }
   ],
   "source": [
    "trainlabels,n"
   ]
  },
  {
   "cell_type": "code",
   "execution_count": 9,
   "metadata": {},
   "outputs": [
    {
     "name": "stdout",
     "output_type": "stream",
     "text": [
      "[16.624000000000002, 17.296, 109.36999999999998, 878.8399999999999, 0.316608, 0.394008, 0.39672, 0.30625199999999997, 0.41968000000000005, 0.27378800000000003, 0.84284, 1.09446, 4.6468, 75.386, 0.20687799999999998, 0.242042, 0.240796, 0.21597800000000006, 0.22954, 0.20571599999999995, 21.064, 23.503999999999998, 139.834, 1398.8600000000001, 0.36385999999999996, 0.73358, 0.72526, 0.42519999999999997, 0.63174, 0.31858000000000003]\n",
      "[17.75, 18.716666666666665, 115.3, 971.9666666666667, 0.43794333333333335, 0.4687666666666667, 0.46812000000000004, 0.4127166666666667, 0.5266333333333334, 0.39692, 0.9291333333333333, 1.3105, 4.491333333333333, 66.77, 0.34153666666666666, 0.35623999999999995, 0.36810000000000004, 0.34790666666666664, 0.34870333333333337, 0.3375666666666666, 21.16, 24.49, 139.0, 1359.6666666666667, 0.48233333333333334, 0.6102666666666667, 0.6820666666666666, 0.5037666666666667, 0.6207666666666666, 0.42518666666666666]\n"
     ]
    }
   ],
   "source": [
    "m0=[]\n",
    "for j in range(0,cols,1):\n",
    "    m0.append(1)\n",
    "m1=[]\n",
    "for j in range(0,cols,1):\n",
    "    m1.append(1)\n",
    "\n",
    "for i in range(0,rows,1):\n",
    "    if(trainlabels.get(i)!=None and trainlabels[i]==0):\n",
    "        for j in range(0,cols,1):\n",
    "            m0[j]=m0[j]+data[i][j]\n",
    "    if(trainlabels.get(i)!=None and trainlabels[i]==1):\n",
    "        for j in range(0,cols,1):\n",
    "            m1[j]=m1[j]+data[i][j]\n",
    "\n",
    "for j in range(0,cols,1):\n",
    "    m0[j]=m0[j]/n[0]\n",
    "    m1[j]=m1[j]/n[1]\n",
    "print(m0)\n",
    "print(m1)"
   ]
  },
  {
   "cell_type": "code",
   "execution_count": 10,
   "metadata": {},
   "outputs": [
    {
     "name": "stdout",
     "output_type": "stream",
     "text": [
      "[14.268224000000004, 15.149624, 577.6933600000002, 144828.5144, 0.040372709856, 0.04602354185600001, 0.045251877600000004, 0.040816688695999984, 0.040771985600000026, 0.04021450777600002, 0.1083259784, 0.06117749839999999, 4.89050256, 2215.4686640000004, 0.04000177773599999, 0.040404848336, 0.040186555544000004, 0.040011263336000025, 0.04025247688, 0.04000378582399998, 21.897183999999992, 10.253664000000004, 1105.9234239999998, 382796.61439999996, 0.040865798399999986, 0.0921001576, 0.06942677039999999, 0.04142480399999999, 0.057058050399999984, 0.040966060960000016]\n",
      "[7.674399999999996, 8.405799999999997, 346.8466666666665, 88521.24666666666, 0.11121857131111113, 0.11162795333333338, 0.11316949413333337, 0.11145490166666668, 0.11145733111111115, 0.11117110206666668, 0.12725513111111106, 0.19105539333333332, 1.0064737777777777, 393.6548666666666, 0.11111988719999999, 0.1111577719333333, 0.11135652346666669, 0.11112304406666666, 0.11111373731111114, 0.11111323419999997, 7.224266666666669, 28.174599999999995, 394.14666666666653, 107036.33333333333, 0.11125329777777777, 0.11573704000000005, 0.11446397333333329, 0.11137820666666669, 0.11244279333333328, 0.11138924986666665]\n"
     ]
    }
   ],
   "source": [
    "v0=[]\n",
    "for j in range(0,cols,1):\n",
    "    v0.append(0)\n",
    "v1=[]\n",
    "for j in range(0,cols,1):\n",
    "    v1.append(0)\n",
    "    \n",
    "for i in range(0,rows,1):\n",
    "    if(trainlabels.get(i)!=None and trainlabels[i]==0):\n",
    "        for j in range(0,cols,1):\n",
    "            v0[j]=v0[j]+((data[i][j]-m0[j])**2)\n",
    "    if(trainlabels.get(i)!=None and trainlabels[i]==1):\n",
    "        for j in range(0,cols,1):\n",
    "            v1[j]=v1[j]+((data[i][j]-m1[j])**2)\n",
    "for j in range(0,cols,1):\n",
    "    v0[j]=v0[j]/n[0]\n",
    "    v1[j]=v1[j]/n[1] \n",
    "    \n",
    "print(v0)\n",
    "print(v1)"
   ]
  },
  {
   "cell_type": "code",
   "execution_count": 11,
   "metadata": {},
   "outputs": [
    {
     "name": "stdout",
     "output_type": "stream",
     "text": [
      "0 8\n"
     ]
    }
   ],
   "source": [
    "for i in range(0,rows,1):\n",
    "    if(trainlabels.get(i)==None):\n",
    "        d0=0\n",
    "        d1=0\n",
    "        for j in range(0,cols,1):\n",
    "            d0=d0+(((m0[j]-data[i][j])**2)/v0[j])\n",
    "            d1=d1+(((m1[j]-data[i][j])**2)/v1[j])\n",
    "        if(d0<d1):\n",
    "            print(\"0\",i)\n",
    "        else:\n",
    "            print(\"1\",i)"
   ]
  },
  {
   "cell_type": "code",
   "execution_count": 13,
   "metadata": {},
   "outputs": [
    {
     "data": {
      "text/plain": [
       "2.0"
      ]
     },
     "execution_count": 13,
     "metadata": {},
     "output_type": "execute_result"
    }
   ],
   "source": [
    "4/2"
   ]
  },
  {
   "cell_type": "code",
   "execution_count": null,
   "metadata": {},
   "outputs": [],
   "source": []
  }
 ],
 "metadata": {
  "kernelspec": {
   "display_name": "Python 3",
   "language": "python",
   "name": "python3"
  },
  "language_info": {
   "codemirror_mode": {
    "name": "ipython",
    "version": 3
   },
   "file_extension": ".py",
   "mimetype": "text/x-python",
   "name": "python",
   "nbconvert_exporter": "python",
   "pygments_lexer": "ipython3",
   "version": "3.6.5"
  }
 },
 "nbformat": 4,
 "nbformat_minor": 2
}
