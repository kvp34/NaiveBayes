{
 "cells": [
  {
   "cell_type": "code",
   "execution_count": 1,
   "metadata": {},
   "outputs": [],
   "source": [
    "import sys"
   ]
  },
  {
   "cell_type": "code",
   "execution_count": 2,
   "metadata": {},
   "outputs": [],
   "source": [
    "datafile = 'D:\\\\Github\\\\NaiveBayes\\\\breast_cancer.data'"
   ]
  },
  {
   "cell_type": "code",
   "execution_count": 3,
   "metadata": {},
   "outputs": [],
   "source": [
    "with open(datafile) as f:\n",
    "    data=[]\n",
    "    i=0\n",
    "    l=f.readline()\n",
    "    while (l!=''):\n",
    "        a=l.split()\n",
    "        l2=[]\n",
    "        for j in range(0,len(a),1):\n",
    "            l2.append(float(a[j]))\n",
    "        data.append(l2)\n",
    "        l=f.readline()\n",
    "rows=len(data)\n",
    "cols=len(data[0])"
   ]
  },
  {
   "cell_type": "code",
   "execution_count": 4,
   "metadata": {},
   "outputs": [
    {
     "data": {
      "text/plain": [
       "(9, 30)"
      ]
     },
     "execution_count": 4,
     "metadata": {},
     "output_type": "execute_result"
    }
   ],
   "source": [
    "rows,cols"
   ]
  },
  {
   "cell_type": "code",
   "execution_count": 5,
   "metadata": {},
   "outputs": [
    {
     "data": {
      "text/plain": [
       "[17.99,\n",
       " 10.38,\n",
       " 122.8,\n",
       " 1001.0,\n",
       " 0.1184,\n",
       " 0.2776,\n",
       " 0.3001,\n",
       " 0.1471,\n",
       " 0.2419,\n",
       " 0.07871,\n",
       " 1.095,\n",
       " 0.9053,\n",
       " 8.589,\n",
       " 153.4,\n",
       " 0.0064,\n",
       " 0.04904,\n",
       " 0.05373,\n",
       " 0.01587,\n",
       " 0.03003,\n",
       " 0.00619,\n",
       " 25.38,\n",
       " 17.33,\n",
       " 184.6,\n",
       " 2019.0,\n",
       " 0.1622,\n",
       " 0.6656,\n",
       " 0.7119,\n",
       " 0.2654,\n",
       " 0.4601,\n",
       " 0.1189]"
      ]
     },
     "execution_count": 5,
     "metadata": {},
     "output_type": "execute_result"
    }
   ],
   "source": [
    "data[0]"
   ]
  },
  {
   "cell_type": "code",
   "execution_count": 6,
   "metadata": {},
   "outputs": [],
   "source": [
    "labelfile='D:\\\\Github\\\\NaiveBayes\\\\breast_cancer.trainlabels.0'"
   ]
  },
  {
   "cell_type": "code",
   "execution_count": 7,
   "metadata": {},
   "outputs": [],
   "source": [
    "with open(labelfile) as f:\n",
    "    trainlabels={}\n",
    "    n=[]\n",
    "    n.append(0)\n",
    "    n.append(0)\n",
    "    l=f.readline()\n",
    "    while(l!=''):\n",
    "        a=l.split()\n",
    "        trainlabels[int(a[1])]=int(a[0])\n",
    "        l=f.readline()\n",
    "        n[int(a[0])]+=1 "
   ]
  },
  {
   "cell_type": "code",
   "execution_count": 8,
   "metadata": {},
   "outputs": [
    {
     "data": {
      "text/plain": [
       "({0: 0, 1: 0, 2: 0, 3: 0, 4: 1, 5: 0, 6: 1, 7: 1}, [5, 3])"
      ]
     },
     "execution_count": 8,
     "metadata": {},
     "output_type": "execute_result"
    }
   ],
   "source": [
    "trainlabels,n"
   ]
  },
  {
   "cell_type": "code",
   "execution_count": 9,
   "metadata": {},
   "outputs": [
    {
     "name": "stdout",
     "output_type": "stream",
     "text": [
      "[16.424, 17.096, 109.16999999999999, 878.64, 0.116608, 0.194008, 0.19672, 0.10625200000000001, 0.21967999999999996, 0.073788, 0.64284, 0.8944599999999999, 4.4468, 75.186, 0.006878, 0.042041999999999996, 0.040796, 0.015978, 0.02954, 0.005716000000000001, 20.863999999999997, 23.304, 139.634, 1398.66, 0.16386, 0.5335799999999999, 0.5252600000000001, 0.22519999999999998, 0.43174, 0.11857999999999999]\n",
      "[17.416666666666668, 18.383333333333333, 114.96666666666665, 971.6333333333333, 0.10461, 0.13543333333333332, 0.13478666666666664, 0.07938333333333335, 0.1933, 0.06358666666666667, 0.5958, 0.9771666666666666, 4.158, 66.43666666666667, 0.008203333333333333, 0.02290666666666667, 0.03476666666666667, 0.014573333333333332, 0.01537, 0.004233333333333333, 20.826666666666668, 24.156666666666666, 138.66666666666666, 1359.3333333333333, 0.149, 0.2769333333333333, 0.34873333333333334, 0.17043333333333333, 0.2874333333333333, 0.09185333333333333]\n"
     ]
    }
   ],
   "source": [
    "m0=[]\n",
    "for j in range(0,cols,1):\n",
    "    m0.append(1)\n",
    "m1=[]\n",
    "for j in range(0,cols,1):\n",
    "    m1.append(1)\n",
    "\n",
    "for i in range(0,rows,1):\n",
    "    if(trainlabels.get(i)!=None and trainlabels[i]==0):\n",
    "        for j in range(0,cols,1):\n",
    "            m0[j]=m0[j]+data[i][j]\n",
    "    if(trainlabels.get(i)!=None and trainlabels[i]==1):\n",
    "        for j in range(0,cols,1):\n",
    "            m1[j]=m1[j]+data[i][j]\n",
    "\n",
    "for j in range(0,cols,1):\n",
    "    m0[j]=m0[j]/n[0]\n",
    "    m1[j]=m1[j]/n[1]\n",
    "print(m0)\n",
    "print(m1)"
   ]
  },
  {
   "cell_type": "code",
   "execution_count": 10,
   "metadata": {},
   "outputs": [
    {
     "name": "stdout",
     "output_type": "stream",
     "text": [
      "[3.7720318132274553, 3.887109980435336, 24.034420317536267, 380.5633645005783, 0.019305694911087763, 0.077611480181736, 0.07246983924364672, 0.02857776576291436, 0.027784628844020928, 0.014646083981733818, 0.261392383974744, 0.14552490645934116, 2.202385651969246, 47.06834035739947, 0.001333317666574624, 0.020120843322286468, 0.013658533742682631, 0.003356089390942977, 0.01588952107522439, 0.0019457194042307331, 4.675166734994592, 3.195882350775761, 33.25482557464405, 618.7055635760842, 0.029424452416315243, 0.22825458943907348, 0.1715423283041244, 0.03774657600365893, 0.1306064715088804, 0.031081521198294007]\n",
      "[2.750143430603009, 2.8800501538842838, 18.62083659655375, 297.52501668860646, 0.010366301172549445, 0.022734164207690203, 0.04536940623616561, 0.018541589887481485, 0.018606987934644333, 0.007745382854033467, 0.1270591200976931, 0.28274419927245587, 0.9462360522970292, 19.83793728076474, 0.0029624464364590443, 0.006830872727713657, 0.015665642519716694, 0.003454411028750857, 0.0016205554603283398, 0.0014570823205601285, 2.667049972451877, 5.297498361386144, 19.850328852579633, 327.16390727313154, 0.01192420507483273, 0.06801418152774384, 0.057903905068848543, 0.01634305832932, 0.03649222139336303, 0.016677492484050337]\n"
     ]
    }
   ],
   "source": [
    "sd0=[]\n",
    "for j in range(0,cols,1):\n",
    "    sd0.append(0)\n",
    "sd1=[]\n",
    "for j in range(0,cols,1):\n",
    "    sd1.append(0)\n",
    "    \n",
    "for i in range(0,rows,1):\n",
    "    if(trainlabels.get(i)!=None and trainlabels[i]==0):\n",
    "        for j in range(0,cols,1):\n",
    "            sd0[j]=sd0[j]+((data[i][j]-m0[j])**2)\n",
    "    if(trainlabels.get(i)!=None and trainlabels[i]==1):\n",
    "        for j in range(0,cols,1):\n",
    "            sd1[j]=sd1[j]+((data[i][j]-m1[j])**2)\n",
    "for j in range(0,cols,1):\n",
    "    sd0[j]=(sd0[j]/n[0])**(1/2)\n",
    "    sd1[j]=(sd1[j]/n[1])**(1/2)  \n",
    "    \n",
    "print(sd0)\n",
    "print(sd1)"
   ]
  },
  {
   "cell_type": "code",
   "execution_count": null,
   "metadata": {},
   "outputs": [],
   "source": []
  }
 ],
 "metadata": {
  "kernelspec": {
   "display_name": "Python 3",
   "language": "python",
   "name": "python3"
  },
  "language_info": {
   "codemirror_mode": {
    "name": "ipython",
    "version": 3
   },
   "file_extension": ".py",
   "mimetype": "text/x-python",
   "name": "python",
   "nbconvert_exporter": "python",
   "pygments_lexer": "ipython3",
   "version": "3.6.5"
  }
 },
 "nbformat": 4,
 "nbformat_minor": 2
}
